{
 "cells": [
  {
   "cell_type": "code",
   "execution_count": 1,
   "id": "b8a47055",
   "metadata": {
    "_cell_guid": "b1076dfc-b9ad-4769-8c92-a6c4dae69d19",
    "_uuid": "8f2839f25d086af736a60e9eeb907d3b93b6e0e5",
    "execution": {
     "iopub.execute_input": "2023-01-09T19:45:45.372688Z",
     "iopub.status.busy": "2023-01-09T19:45:45.371404Z",
     "iopub.status.idle": "2023-01-09T19:45:46.548404Z",
     "shell.execute_reply": "2023-01-09T19:45:46.546763Z"
    },
    "papermill": {
     "duration": 1.187157,
     "end_time": "2023-01-09T19:45:46.552747",
     "exception": false,
     "start_time": "2023-01-09T19:45:45.365590",
     "status": "completed"
    },
    "tags": []
   },
   "outputs": [
    {
     "name": "stdout",
     "output_type": "stream",
     "text": [
      "/kaggle/input/pokedex-gen8/PokeDex8.csv\n",
      "/kaggle/input/all-pokemon-dataset/All_Pokemon.csv\n"
     ]
    }
   ],
   "source": [
    "# This Python 3 environment comes with many helpful analytics libraries installed\n",
    "# It is defined by the kaggle/python Docker image: https://github.com/kaggle/docker-python\n",
    "# For example, here's several helpful packages to load\n",
    "\n",
    "import numpy as np # linear algebra\n",
    "import pandas as pd # data processing, CSV file I/O (e.g. pd.read_csv)\n",
    "import seaborn as sns\n",
    "from sklearn.model_selection import train_test_split\n",
    "from sklearn.naive_bayes import GaussianNB\n",
    "\n",
    "\n",
    "import matplotlib.pyplot as plt\n",
    "\n",
    "# Input data files are available in the read-only \"../input/\" directory\n",
    "# For example, running this (by clicking run or pressing Shift+Enter) will list all files under the input directory\n",
    "\n",
    "import os\n",
    "for dirname, _, filenames in os.walk('/kaggle/input'):\n",
    "    for filename in filenames:\n",
    "        print(os.path.join(dirname, filename))\n",
    "\n",
    "# You can write up to 20GB to the current directory (/kaggle/working/) that gets preserved as output when you create a version using \"Save & Run All\" \n",
    "# You can also write temporary files to /kaggle/temp/, but they won't be saved outside of the current session"
   ]
  },
  {
   "cell_type": "code",
   "execution_count": 2,
   "id": "e74aa7b4",
   "metadata": {
    "execution": {
     "iopub.execute_input": "2023-01-09T19:45:46.561482Z",
     "iopub.status.busy": "2023-01-09T19:45:46.560368Z",
     "iopub.status.idle": "2023-01-09T19:45:46.602388Z",
     "shell.execute_reply": "2023-01-09T19:45:46.601018Z"
    },
    "papermill": {
     "duration": 0.049368,
     "end_time": "2023-01-09T19:45:46.605508",
     "exception": false,
     "start_time": "2023-01-09T19:45:46.556140",
     "status": "completed"
    },
    "tags": []
   },
   "outputs": [],
   "source": [
    "#creating dataset\n",
    "pk_df = pd.read_csv(\"/kaggle/input/all-pokemon-dataset/All_Pokemon.csv\")\n",
    "gen8_df = pd.read_csv(\"/kaggle/input/pokedex-gen8/PokeDex8.csv\")\n",
    "\n",
    "\n",
    "#print(pk_df.head())\n",
    "#print(gen8_df.head())\n",
    "\n",
    "#print(len(pk_df))\n",
    "#print(len(gen8_df))\n",
    "#pk_df.reset_index(inplace=True)\n",
    "#gen8_df.reset_index(inplace=True)"
   ]
  },
  {
   "cell_type": "code",
   "execution_count": 3,
   "id": "b756a158",
   "metadata": {
    "execution": {
     "iopub.execute_input": "2023-01-09T19:45:46.613661Z",
     "iopub.status.busy": "2023-01-09T19:45:46.612540Z",
     "iopub.status.idle": "2023-01-09T19:45:46.641980Z",
     "shell.execute_reply": "2023-01-09T19:45:46.640403Z"
    },
    "papermill": {
     "duration": 0.036069,
     "end_time": "2023-01-09T19:45:46.644726",
     "exception": false,
     "start_time": "2023-01-09T19:45:46.608657",
     "status": "completed"
    },
    "tags": []
   },
   "outputs": [
    {
     "name": "stdout",
     "output_type": "stream",
     "text": [
      "388\n"
     ]
    }
   ],
   "source": [
    "#Filter merge to remove mons that got cut\n",
    "g8_dex = pk_df.merge(gen8_df, on=\"Name\")\n",
    "remaining_mons = pk_df[\"Name\"].isin(g8_dex[\"Name\"])\n",
    "final_dex = pk_df[remaining_mons]\n",
    "#final_dex.reset_index(inplace=True)\n",
    "\n",
    "print(len(final_dex))\n"
   ]
  },
  {
   "cell_type": "code",
   "execution_count": 4,
   "id": "0d122b37",
   "metadata": {
    "execution": {
     "iopub.execute_input": "2023-01-09T19:45:46.652761Z",
     "iopub.status.busy": "2023-01-09T19:45:46.652279Z",
     "iopub.status.idle": "2023-01-09T19:45:46.709693Z",
     "shell.execute_reply": "2023-01-09T19:45:46.708380Z"
    },
    "papermill": {
     "duration": 0.065602,
     "end_time": "2023-01-09T19:45:46.713267",
     "exception": false,
     "start_time": "2023-01-09T19:45:46.647665",
     "status": "completed"
    },
    "tags": []
   },
   "outputs": [
    {
     "name": "stdout",
     "output_type": "stream",
     "text": [
      "          Name Type 1  Type 2  HP  Att  Def  Spa  Spd  Spe  BST  ...  \\\n",
      "4   Charmander   Fire     NaN  39   52   43   60   50   65  309  ...   \n",
      "5   Charmeleon   Fire     NaN  58   64   58   80   65   80  405  ...   \n",
      "6    Charizard   Fire  Flying  78   84   78  109   85  100  534  ...   \n",
      "13    Caterpie    Bug     NaN  45   30   35   20   20   45  195  ...   \n",
      "14     Metapod    Bug     NaN  50   20   55   25   25   30  205  ...   \n",
      "\n",
      "    Against Flying  Against Psychic  Against Bug  Against Rock  Against Ghost  \\\n",
      "4              1.0              1.0         0.50           2.0            1.0   \n",
      "5              1.0              1.0         0.50           2.0            1.0   \n",
      "6              1.0              1.0         0.25           4.0            1.0   \n",
      "13             2.0              1.0         1.00           2.0            1.0   \n",
      "14             2.0              1.0         1.00           2.0            1.0   \n",
      "\n",
      "    Against Dragon  Against Dark  Against Steel  Against Fairy      Tier  \n",
      "4              1.0           1.0            0.5            0.5  Untiered  \n",
      "5              1.0           1.0            0.5            0.5  Untiered  \n",
      "6              1.0           1.0            0.5            0.5        PU  \n",
      "13             1.0           1.0            1.0            1.0  Untiered  \n",
      "14             1.0           1.0            1.0            1.0  Untiered  \n",
      "\n",
      "[5 rows x 29 columns]\n"
     ]
    },
    {
     "name": "stderr",
     "output_type": "stream",
     "text": [
      "/opt/conda/lib/python3.7/site-packages/pandas/core/indexing.py:1667: SettingWithCopyWarning: \n",
      "A value is trying to be set on a copy of a slice from a DataFrame.\n",
      "Try using .loc[row_indexer,col_indexer] = value instead\n",
      "\n",
      "See the caveats in the documentation: https://pandas.pydata.org/pandas-docs/stable/user_guide/indexing.html#returning-a-view-versus-a-copy\n",
      "  self.obj[key] = value\n",
      "/opt/conda/lib/python3.7/site-packages/pandas/core/frame.py:4913: SettingWithCopyWarning: \n",
      "A value is trying to be set on a copy of a slice from a DataFrame\n",
      "\n",
      "See the caveats in the documentation: https://pandas.pydata.org/pandas-docs/stable/user_guide/indexing.html#returning-a-view-versus-a-copy\n",
      "  errors=errors,\n",
      "/opt/conda/lib/python3.7/site-packages/pandas/core/indexing.py:1773: SettingWithCopyWarning: \n",
      "A value is trying to be set on a copy of a slice from a DataFrame.\n",
      "Try using .loc[row_indexer,col_indexer] = value instead\n",
      "\n",
      "See the caveats in the documentation: https://pandas.pydata.org/pandas-docs/stable/user_guide/indexing.html#returning-a-view-versus-a-copy\n",
      "  self._setitem_single_column(ilocs[0], value, pi)\n"
     ]
    }
   ],
   "source": [
    "#generation 8 pokemon, with borderline tiers\n",
    "final_dex.loc[:,\"Tier\"] = \"Untiered\"\n",
    "\n",
    "#List of each pokemon in a tier\n",
    "UBERS = [\"Calyrex-Ice\", \"Calyrex-Shadow\", \"Cinderace\", \"Darmanitan-Galar\", \"Dialga\", \"Dracovish\", \"Eternatus\", \"Genesect\", \"Giratina\", \"Giratina-Origin\", \"Groudon\", \"Ho-Oh\", \"Kyogre\", \"Kyurem\", \"Kyurem-Black\", \"Kyurem-White\", \"Landorus\", \"Lugia\", \"Lunala\", \"Magearna\", \"Marshadow\", \"mewtwo\", \"Naganadel\", \"Necrozma-Dawn Wings\", \"Necrosma-Dusk Mane\", \"Palkia\", \"Pheromosa\", \"Rayquaza\", \"Reshiram\", \"Solgaleo\", \"Spectrier\", \"Urshifu\", \"Xerneas\", \"Yveltal\", \"Zamazenta\", \"Zamazenta-Crowned\", \"Zekrom\", \"Zygarde\", \"Zygarde=Complete\"]\n",
    "OU = [\"Barraskewda\", \"Bisharp\", \"Blacephelon\", \"Blissey\", \"Buzzwole\", \"Clefable\", \"Corviknight\", \"Dragapult\", \"Dragonite\", \"Ferrothorn\", \"Garchomp\", \"Heatran\", \"Kartana\", \"Landorus-Therian\", \"Magnezone\", \"Melmetal\", \"Mew\", \"Ninetales-Alola\", \"Pelipper\", \"Rillaboom\", \"Slowbro\", \"Slowking-Galar\", \"Tapu Fini\", \"Tapu Koko\", \"Tapu Lele\", \"Tornadus-Therian\", \"Toxapex\", \"Tyranitar\", \"Urshifu-Rapid-Strike\", \"Victini\", \"Volcanion\", \"Volcarona\", \"Weaville\", \"Zapdos\", \"Zeraora\"]\n",
    "UUBL = [\"Aegislash\", \"Alakazam\", \"Arctozolt\", \"Blaziken\", \"Dracozolt\", \"Gengar\", \"Hawlucha\", \"Kommo-o\", \"Latias\", \"Latios\", \"Mienshao\", \"Moltres-Galar\", \"Terrakion\", \"Thundurus\", \"Zapdos-Galar\"]\n",
    "UU = [\"Amoonguss\", \"Azelf\", \"Azumarill\", \"Celesteela\", \"Chansey\", \"Coballion\", \"Conkeldurr\", \"Crawdaunt\", \"Darmanitan\", \"Excadrill\", \"Gyarados\", \"Hatterene\", \"Hippowdon\", \"Hydreigon\", \"Jirachi\", \"Keldeo\", \"Krookadile\", \"Lycanrock-Dusk\", \"Mamoswine\", \"Mandibuzz\", \"Moltres\", \"Nidoking\", \"Nihilego\", \"Primarina\", \"Regieleki\", \"Rotom-Heat\", \"Rotom-Wash\", \"Salamence\", \"Scizor\", \"Skarmory\", \"Slowking\", \"Swamper\", \"Tangrowth\", \"Tapu Bulu\", \"Thundurus-Therian\", \"Torkoal\", \"Venusaur\", \"Zarude\", \"Zygarde-10%\"]\n",
    "RUBL = [\"Diggersby\", \"Durant\", \"Haxorus\", \"Necrozma\", \"Obstagoon\", \"Scolipede\", \"Slowbro-Galar\"]\n",
    "RU = [\"Bronzong\", \"Celebi\",\"Chandelure\", \"Cloyster\", \"Crobat\", \"Flygon\", \"Gardevoir\", \"Golisopod\", \"Heracross\", \"Inceneroar\", \"Klefki\", \"Lucario\", \"Marowak-Alola\", \"Metagross\", \"Milotic\", \"Mimikyu\", \"Nidoqueen\", \"Noivern\", \"Polteageist\", \"Porygon2\", \"Raikou\", \"Registeel\", \"Reuniclus\", \"Rhyperior\", \"Roserade\", \"Seismitoad\", \"Sharpedo\", \"Steelix\", \"Suicune\", \"Tentacruel\", \"Togekiss\", \"Toxtricity\", \"Umbreon\", \"Weezing-Galar\", \"Xurkitree\"]\n",
    "NUBL = [\"Barbaracle\", \"Bewear\", \"Blastoise\", \"Cresselia\", \"Dragalge\", \"Entei\", \"Goodra\", \"Indeedee\", \"Indeedee-F\", \"Linoone\", \"Machamp\", \"Pangoro\", \"Porygon-Z\", \"Regidrago\", \"Sandshrew-Alola\", \"Sandslash-Alola\", \"Sigilyph\", \"Sirfetch'd\", \"Slurpuff\", \"Tornados\"]\n",
    "NU = [\"Aerodactyl\", \"Arcanine\", \"Braviary\", \"Copperajah\", \"Decidueye\", \"Dhelmise\", \"Diancie\", \"Drapion\", \"Escavalier\", \"Exploud\", \"Gastrodon\", \"Golurk\", \"Grimmsnarl\", \"Heliolisk\", \"Hitmontop\", \"Mantine\", \"Mudsdale\", \"Passimian\", \"Rotom-Mow\", \"Salazzle\", \"Silvally-Ground\", \"Snorlax\", \"Stakataka\", \"Starmie\", \"Sylveon\", \"Talonflame\", \"Tauros\", \"Toxicroak\", \"Tsareena\", \"Tyrantrum\", \"Vaporeon\", \"Vileplume\", \"Xatu\"]\n",
    "PUBL = [\"Araquanid\", \"Clawitzer\", \"Drampa\", \"Duraludon\", \"Espeon\", \"Exeggutor-Alola\", \"Guzzlord\", \"Inteleon\", \"Kingdra\", \"Kingler\", \"Omastar\", \"Raichu-Alola\", \"Sceptile\", \"Scyther\", \"Vanilluxe\", \"Virizion\", \"Zoroark\"]\n",
    "PU = [\"Absol\", \"Aggron\", \"Archeops\", \"Aromatisse\", \"Articuno-Galar\", \"Audino\", \"Charizard\", \"Cincinno\", \"Claydol\", \"Comfey\", \"Doublade\", \"Druddigon\", \"Eldegoss\", \"Ferroseed\", \"Frosmoth\", \"Gallade\", \"Galvantula\", \"Garbodor\", \"Gigalith\", \"Hitmonlee\", \"Jellicent\", \"Jolteon\", \"Lanturn\", \"Lycanroc\", \"Magneton\", \"Mespirit\", \"Quagsire\", \"Regirocl\", \"Ribombee\", \"Sandaconda\", \"Sandslash\", \"Scrafty\", \"Silvally-Fairy\", \"Silvally-Ghost\", \"Silvally-Steel\", \"Togedemaru\", \"Wheezing\", \"Whimsicott\", \"Wishiwashi\"]\n",
    "\n",
    "#Removing Columns with no relevance to battling\n",
    "final_dex.drop(labels=['Number','Abilities', 'Height', 'Weight', 'BMI', 'Mean', 'Standard Deviation', 'Generation',\n",
    "       'Experience type', 'Experience to level 100', 'Final Evolution',\n",
    "       'Catch Rate', 'Legendary', 'Mega Evolution', 'Alolan Form',\n",
    "       'Galarian Form', ], axis=1, inplace=True)\n",
    "\n",
    "#Possibly use .loc[final[_dex['Name']]]\n",
    "final_dex.loc[:,'Tier'] = np.where(final_dex.loc[:,'Name'].isin(UBERS), \"Ubers\", final_dex.loc[:,'Tier'])\n",
    "final_dex.loc[:,'Tier'] = np.where(final_dex.loc[:,'Name'].isin(OU), \"OU\", final_dex.loc[:,'Tier'])\n",
    "final_dex.loc[:,'Tier'] = np.where(final_dex.loc[:,'Name'].isin(UUBL), \"OU\", final_dex.loc[:,'Tier'])\n",
    "final_dex.loc[:,'Tier'] = np.where(final_dex.loc[:,'Name'].isin(UU), \"UU\", final_dex.loc[:,'Tier'])\n",
    "final_dex.loc[:,'Tier'] = np.where(final_dex.loc[:,'Name'].isin(RUBL), \"UU\", final_dex.loc[:,'Tier'])\n",
    "final_dex.loc[:,'Tier'] = np.where(final_dex.loc[:,'Name'].isin(RU), \"RU\", final_dex.loc[:,'Tier'])\n",
    "final_dex.loc[:,'Tier'] = np.where(final_dex.loc[:,'Name'].isin(NUBL), \"RU\", final_dex.loc[:,'Tier'])\n",
    "final_dex.loc[:,'Tier'] = np.where(final_dex.loc[:,'Name'].isin(NU), \"NU\", final_dex.loc[:,'Tier'])\n",
    "final_dex.loc[:,'Tier'] = np.where(final_dex.loc[:,'Name'].isin(PUBL), \"NU\", final_dex.loc[:,'Tier'])\n",
    "final_dex.loc[:,'Tier'] = np.where(final_dex.loc[:,'Name'].isin(PU), \"PU\", final_dex.loc[:,'Tier'])\n",
    "\n",
    "#final_dex.loc[final_dex['Name'].isin(UBERS)]['Tier'] == '6'\n",
    "# final_dex.loc[final_dex['Name'].isin(OU)]['Tier'] == '5'\n",
    "# final_dex.loc[final_dex['Name'].isin(UUBL)]['Tier'] == '5'\n",
    "# final_dex.loc[final_dex['Name'].isin(UU)]['Tier'] == '4'\n",
    "# final_dex.loc[final_dex['Name'].isin(RUBL)]['Tier'] == '4'\n",
    "# final_dex.loc[final_dex['Name'].isin(RU)]['Tier'] == '3'\n",
    "# final_dex.loc[final_dex['Name'].isin(NUBL)]['Tier'] == '3'\n",
    "# final_dex.loc[final_dex['Name'].isin(NU)]['Tier'] == '2'\n",
    "# final_dex.loc[final_dex['Name'].isin(PUBL)]['Tier'] == '2'\n",
    "# final_dex.loc[final_dex['Name'].isin(PU)]['Tier'] == '1'\n",
    "print(final_dex.head())"
   ]
  },
  {
   "cell_type": "code",
   "execution_count": 5,
   "id": "968b1291",
   "metadata": {
    "execution": {
     "iopub.execute_input": "2023-01-09T19:45:46.727067Z",
     "iopub.status.busy": "2023-01-09T19:45:46.726372Z",
     "iopub.status.idle": "2023-01-09T19:45:46.759103Z",
     "shell.execute_reply": "2023-01-09T19:45:46.756420Z"
    },
    "papermill": {
     "duration": 0.041472,
     "end_time": "2023-01-09T19:45:46.762438",
     "exception": false,
     "start_time": "2023-01-09T19:45:46.720966",
     "status": "completed"
    },
    "tags": []
   },
   "outputs": [
    {
     "name": "stdout",
     "output_type": "stream",
     "text": [
      "          Name  Type 1  Type 2  HP  Att  Def  Spa  Spd  Spe  BST  ...  \\\n",
      "4   Charmander       6      18  39   52   43   60   50   65  309  ...   \n",
      "5   Charmeleon       6      18  58   64   58   80   65   80  405  ...   \n",
      "6    Charizard       6       7  78   84   78  109   85  100  534  ...   \n",
      "13    Caterpie       0      18  45   30   35   20   20   45  195  ...   \n",
      "14     Metapod       0      18  50   20   55   25   25   30  205  ...   \n",
      "\n",
      "    Against Flying  Against Psychic  Against Bug  Against Rock  Against Ghost  \\\n",
      "4              1.0              1.0         0.50           2.0            1.0   \n",
      "5              1.0              1.0         0.50           2.0            1.0   \n",
      "6              1.0              1.0         0.25           4.0            1.0   \n",
      "13             2.0              1.0         1.00           2.0            1.0   \n",
      "14             2.0              1.0         1.00           2.0            1.0   \n",
      "\n",
      "    Against Dragon  Against Dark  Against Steel  Against Fairy  Tier  \n",
      "4              1.0           1.0            0.5            0.5     6  \n",
      "5              1.0           1.0            0.5            0.5     6  \n",
      "6              1.0           1.0            0.5            0.5     2  \n",
      "13             1.0           1.0            1.0            1.0     6  \n",
      "14             1.0           1.0            1.0            1.0     6  \n",
      "\n",
      "[5 rows x 29 columns]\n"
     ]
    },
    {
     "name": "stderr",
     "output_type": "stream",
     "text": [
      "/opt/conda/lib/python3.7/site-packages/ipykernel_launcher.py:7: SettingWithCopyWarning: \n",
      "A value is trying to be set on a copy of a slice from a DataFrame.\n",
      "Try using .loc[row_indexer,col_indexer] = value instead\n",
      "\n",
      "See the caveats in the documentation: https://pandas.pydata.org/pandas-docs/stable/user_guide/indexing.html#returning-a-view-versus-a-copy\n",
      "  import sys\n",
      "/opt/conda/lib/python3.7/site-packages/ipykernel_launcher.py:8: SettingWithCopyWarning: \n",
      "A value is trying to be set on a copy of a slice from a DataFrame.\n",
      "Try using .loc[row_indexer,col_indexer] = value instead\n",
      "\n",
      "See the caveats in the documentation: https://pandas.pydata.org/pandas-docs/stable/user_guide/indexing.html#returning-a-view-versus-a-copy\n",
      "  \n",
      "/opt/conda/lib/python3.7/site-packages/ipykernel_launcher.py:9: SettingWithCopyWarning: \n",
      "A value is trying to be set on a copy of a slice from a DataFrame.\n",
      "Try using .loc[row_indexer,col_indexer] = value instead\n",
      "\n",
      "See the caveats in the documentation: https://pandas.pydata.org/pandas-docs/stable/user_guide/indexing.html#returning-a-view-versus-a-copy\n",
      "  if __name__ == \"__main__\":\n"
     ]
    }
   ],
   "source": [
    "#Preprocessing the data\n",
    "\n",
    "from sklearn import preprocessing \n",
    "#final_dex_ohe = pd.get_dummies(final_dex, columns=['Type 1', 'Type 2', 'Tier'])\n",
    "# #print(final_dex.columns)\n",
    "le = preprocessing.LabelEncoder()\n",
    "final_dex['Type 1']=le.fit_transform(final_dex['Type 1'])\n",
    "final_dex['Type 2']=le.fit_transform(final_dex['Type 2'])\n",
    "final_dex['Tier']=le.fit_transform(final_dex['Tier'])\n",
    "print(final_dex.head())\n",
    "\n",
    "\n",
    "features = final_dex.loc[:,['Type 1', 'Type 2', 'HP', 'Att', 'Def', 'Spa',\n",
    "       'Spd', 'Spe', 'BST', 'Against Normal', 'Against Fire', 'Against Water',\n",
    "       'Against Electric', 'Against Grass', 'Against Ice', 'Against Fighting',\n",
    "       'Against Poison', 'Against Ground', 'Against Flying', 'Against Psychic',\n",
    "       'Against Bug', 'Against Rock', 'Against Ghost', 'Against Dragon',\n",
    "       'Against Dark', 'Against Steel', 'Against Fairy']]\n",
    "\n",
    "labels=final_dex.loc[:,['Tier']]\n"
   ]
  },
  {
   "cell_type": "code",
   "execution_count": 6,
   "id": "8e859c97",
   "metadata": {
    "execution": {
     "iopub.execute_input": "2023-01-09T19:45:46.775152Z",
     "iopub.status.busy": "2023-01-09T19:45:46.774721Z",
     "iopub.status.idle": "2023-01-09T19:45:46.794520Z",
     "shell.execute_reply": "2023-01-09T19:45:46.793194Z"
    },
    "papermill": {
     "duration": 0.030006,
     "end_time": "2023-01-09T19:45:46.797961",
     "exception": false,
     "start_time": "2023-01-09T19:45:46.767955",
     "status": "completed"
    },
    "tags": []
   },
   "outputs": [
    {
     "name": "stdout",
     "output_type": "stream",
     "text": [
      "Accuracy: 0.5384615384615384\n"
     ]
    },
    {
     "name": "stderr",
     "output_type": "stream",
     "text": [
      "/opt/conda/lib/python3.7/site-packages/sklearn/utils/validation.py:993: DataConversionWarning: A column-vector y was passed when a 1d array was expected. Please change the shape of y to (n_samples, ), for example using ravel().\n",
      "  y = column_or_1d(y, warn=True)\n"
     ]
    }
   ],
   "source": [
    "model = GaussianNB()\n",
    "X_train, X_test, y_train, y_test = train_test_split(features,labels, test_size=0.3,random_state=43)\n",
    "model.fit(X_train, y_train)\n",
    "y_pred = model.predict(X_test)\n",
    "\n",
    "from sklearn import metrics\n",
    "\n",
    "# Model Accuracy, how often is the classifier correct?\n",
    "print(\"Accuracy:\",metrics.accuracy_score(y_test, y_pred))"
   ]
  }
 ],
 "metadata": {
  "kernelspec": {
   "display_name": "Python 3",
   "language": "python",
   "name": "python3"
  },
  "language_info": {
   "codemirror_mode": {
    "name": "ipython",
    "version": 3
   },
   "file_extension": ".py",
   "mimetype": "text/x-python",
   "name": "python",
   "nbconvert_exporter": "python",
   "pygments_lexer": "ipython3",
   "version": "3.7.12"
  },
  "papermill": {
   "default_parameters": {},
   "duration": 10.817874,
   "end_time": "2023-01-09T19:45:47.525138",
   "environment_variables": {},
   "exception": null,
   "input_path": "__notebook__.ipynb",
   "output_path": "__notebook__.ipynb",
   "parameters": {},
   "start_time": "2023-01-09T19:45:36.707264",
   "version": "2.3.4"
  }
 },
 "nbformat": 4,
 "nbformat_minor": 5
}
