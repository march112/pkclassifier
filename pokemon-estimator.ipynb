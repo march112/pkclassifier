{
 "cells": [
  {
   "cell_type": "code",
   "execution_count": 1,
   "id": "7c4e4a42",
   "metadata": {
    "_cell_guid": "b1076dfc-b9ad-4769-8c92-a6c4dae69d19",
    "_uuid": "8f2839f25d086af736a60e9eeb907d3b93b6e0e5",
    "execution": {
     "iopub.execute_input": "2023-01-08T02:21:51.612163Z",
     "iopub.status.busy": "2023-01-08T02:21:51.611709Z",
     "iopub.status.idle": "2023-01-08T02:21:52.447506Z",
     "shell.execute_reply": "2023-01-08T02:21:52.446630Z"
    },
    "papermill": {
     "duration": 0.841784,
     "end_time": "2023-01-08T02:21:52.449408",
     "exception": false,
     "start_time": "2023-01-08T02:21:51.607624",
     "status": "completed"
    },
    "tags": []
   },
   "outputs": [
    {
     "name": "stdout",
     "output_type": "stream",
     "text": [
      "/kaggle/input/pokedex-gen8/PokeDex8.csv\n",
      "/kaggle/input/all-pokemon-dataset/All_Pokemon.csv\n"
     ]
    }
   ],
   "source": [
    "# This Python 3 environment comes with many helpful analytics libraries installed\n",
    "# It is defined by the kaggle/python Docker image: https://github.com/kaggle/docker-python\n",
    "# For example, here's several helpful packages to load\n",
    "\n",
    "import numpy as np # linear algebra\n",
    "import pandas as pd # data processing, CSV file I/O (e.g. pd.read_csv)\n",
    "import seaborn as sns\n",
    "import matplotlib.pyplot as plt\n",
    "\n",
    "# Input data files are available in the read-only \"../input/\" directory\n",
    "# For example, running this (by clicking run or pressing Shift+Enter) will list all files under the input directory\n",
    "\n",
    "import os\n",
    "for dirname, _, filenames in os.walk('/kaggle/input'):\n",
    "    for filename in filenames:\n",
    "        print(os.path.join(dirname, filename))\n",
    "\n",
    "# You can write up to 20GB to the current directory (/kaggle/working/) that gets preserved as output when you create a version using \"Save & Run All\" \n",
    "# You can also write temporary files to /kaggle/temp/, but they won't be saved outside of the current session"
   ]
  },
  {
   "cell_type": "code",
   "execution_count": 2,
   "id": "afbbef21",
   "metadata": {
    "execution": {
     "iopub.execute_input": "2023-01-08T02:21:52.454293Z",
     "iopub.status.busy": "2023-01-08T02:21:52.454025Z",
     "iopub.status.idle": "2023-01-08T02:21:52.481416Z",
     "shell.execute_reply": "2023-01-08T02:21:52.480548Z"
    },
    "papermill": {
     "duration": 0.03194,
     "end_time": "2023-01-08T02:21:52.483383",
     "exception": false,
     "start_time": "2023-01-08T02:21:52.451443",
     "status": "completed"
    },
    "tags": []
   },
   "outputs": [],
   "source": [
    "#creating dataset\n",
    "pk_df = pd.read_csv(\"/kaggle/input/all-pokemon-dataset/All_Pokemon.csv\")\n",
    "gen8_df = pd.read_csv(\"/kaggle/input/pokedex-gen8/PokeDex8.csv\")\n",
    "\n",
    "\n",
    "#print(pk_df.head())\n",
    "#print(gen8_df.head())\n",
    "\n",
    "#print(len(pk_df))\n",
    "#print(len(gen8_df))\n",
    "#pk_df.reset_index(inplace=True)\n",
    "#gen8_df.reset_index(inplace=True)"
   ]
  },
  {
   "cell_type": "code",
   "execution_count": 3,
   "id": "1992a4e1",
   "metadata": {
    "execution": {
     "iopub.execute_input": "2023-01-08T02:21:52.488913Z",
     "iopub.status.busy": "2023-01-08T02:21:52.488093Z",
     "iopub.status.idle": "2023-01-08T02:21:52.520227Z",
     "shell.execute_reply": "2023-01-08T02:21:52.519087Z"
    },
    "papermill": {
     "duration": 0.037056,
     "end_time": "2023-01-08T02:21:52.522372",
     "exception": false,
     "start_time": "2023-01-08T02:21:52.485316",
     "status": "completed"
    },
    "tags": []
   },
   "outputs": [
    {
     "name": "stdout",
     "output_type": "stream",
     "text": [
      "388\n"
     ]
    }
   ],
   "source": [
    "#Filter merge to remove mons that got cut\n",
    "g8_dex = pk_df.merge(gen8_df, on=\"Name\")\n",
    "remaining_mons = pk_df[\"Name\"].isin(g8_dex[\"Name\"])\n",
    "final_dex = pk_df[remaining_mons]\n",
    "final_dex.reset_index()\n",
    "\n",
    "print(len(final_dex))\n"
   ]
  },
  {
   "cell_type": "code",
   "execution_count": 4,
   "id": "68704206",
   "metadata": {
    "execution": {
     "iopub.execute_input": "2023-01-08T02:21:52.529355Z",
     "iopub.status.busy": "2023-01-08T02:21:52.528819Z",
     "iopub.status.idle": "2023-01-08T02:21:52.547012Z",
     "shell.execute_reply": "2023-01-08T02:21:52.545291Z"
    },
    "papermill": {
     "duration": 0.024266,
     "end_time": "2023-01-08T02:21:52.549277",
     "exception": false,
     "start_time": "2023-01-08T02:21:52.525011",
     "status": "completed"
    },
    "tags": []
   },
   "outputs": [],
   "source": [
    "#generation 8 pokemon, with borderline tiers\n",
    "#final_dex[\"Tier\"] = \"Untiered\"\n",
    "\n",
    "UBERS = [\"Calyrex-Ice\", \"Calyrex-Shadow\", \"Cinderace\", \"Darmanitan-Galar\", \"Dialga\", \"Dracovish\", \"Eternatus\", \"Genesect\", \"Giratina\", \"Giratina-Origin\", \"Groudon\", \"Ho-Oh\", \"Kyogre\", \"Kyurem\", \"Kyurem-Black\", \"Kyurem-White\", \"Landorus\", \"Lugia\", \"Lunala\", \"Magearna\", \"Marshadow\", \"mewtwo\", \"Naganadel\", \"Necrozma-Dawn Wings\", \"Necrosma-Dusk Mane\", \"Palkia\", \"Pheromosa\", \"Rayquaza\", \"Reshiram\", \"Solgaleo\", \"Spectrier\", \"Urshifu\", \"Xerneas\", \"Yveltal\", \"Zamazenta\", \"Zamazenta-Crowned\", \"Zekrom\", \"Zygarde\", \"Zygarde=Complete\"]\n",
    "OU = [\"Barraskewda\", \"Bisharp\", \"Blacephelon\", \"Blissey\", \"Buzzwole\", \"Clefable\", \"Corviknight\", \"Dragapult\", \"Dragonite\", \"Ferrothorn\", \"Garchomp\", \"Heatran\", \"Kartana\", \"Landorus-Therian\", \"Magnezone\", \"Melmetal\", \"Mew\", \"Ninetales-Alola\", \"Pelipper\", \"Rillaboom\", \"Slowbro\", \"Slowking-Galar\", \"Tapu Fini\", \"Tapu Koko\", \"Tapu Lele\", \"Tornadus-Therian\", \"Toxapex\", \"Tyranitar\", \"Urshifu-Rapid-Strike\", \"Victini\", \"Volcanion\", \"Volcarona\", \"Weaville\", \"Zapdos\", \"Zeraora\"]\n",
    "UUBL = [\"Aegislash\", \"Alakazam\", \"Arctozolt\", \"Blaziken\", \"Dracozolt\", \"Gengar\", \"Hawlucha\", \"Kommo-o\", \"Latias\", \"Latios\", \"Mienshao\", \"Moltres-Galar\", \"Terrakion\", \"Thundurus\", \"Zapdos-Galar\"]\n",
    "UU = [\"Amoonguss\", \"Azelf\", \"Azumarill\", \"Celesteela\", \"Chansey\", \"Coballion\", \"Conkeldurr\", \"Crawdaunt\", \"Darmanitan\", \"Excadrill\", \"Gyarados\", \"Hatterene\", \"Hippowdon\", \"Hydreigon\", \"Jirachi\", \"Keldeo\", \"Krookadile\", \"Lycanrock-Dusk\", \"Mamoswine\", \"Mandibuzz\", \"Moltres\", \"Nidoking\", \"Nihilego\", \"Primarina\", \"Regieleki\", \"Rotom-Heat\", \"Rotom-Wash\", \"Salamence\", \"Scizor\", \"Skarmory\", \"Slowking\", \"Swamper\", \"Tangrowth\", \"Tapu Bulu\", \"Thundurus-Therian\", \"Torkoal\", \"Venusaur\", \"Zarude\", \"Zygarde-10%\"]\n",
    "RUBL = [\"Diggersby\", \"Durant\", \"Haxorus\", \"Necrozma\", \"Obstagoon\", \"Scolipede\", \"Slowbro-Galar\"]\n",
    "RU = [\"Bronzong\", \"Celebi\",\"Chandelure\", \"Cloyster\", \"Crobat\", \"Flygon\", \"Gardevoir\", \"Golisopod\", \"Heracross\", \"Inceneroar\", \"Klefki\", \"Lucario\", \"Marowak-Alola\", \"Metagross\", \"Milotic\", \"Mimikyu\", \"Nidoqueen\", \"Noivern\", \"Polteageist\", \"Porygon2\", \"Raikou\", \"Registeel\", \"Reuniclus\", \"Rhyperior\", \"Roserade\", \"Seismitoad\", \"Sharpedo\", \"Steelix\", \"Suicune\", \"Tentacruel\", \"Togekiss\", \"Toxtricity\", \"Umbreon\", \"Weezing-Galar\", \"Xurkitree\"]\n",
    "NUBL = [\"Barbaracle\", \"Bewear\", \"Blastoise\", \"Cresselia\", \"Dragalge\", \"Entei\", \"Goodra\", \"Indeedee\", \"Indeedee-F\", \"Linoone\", \"Machamp\", \"Pangoro\", \"Porygon-Z\", \"Regidrago\", \"Sandshrew-Alola\", \"Sandslash-Alola\", \"Sigilyph\", \"Sirfetch'd\", \"Slurpuff\", \"Tornados\"]\n",
    "NU = [\"Aerodactyl\", \"Arcanine\", \"Braviary\", \"Copperajah\", \"Decidueye\", \"Dhelmise\", \"Diancie\", \"Drapion\", \"Escavalier\", \"Exploud\", \"Gastrodon\", \"Golurk\", \"Grimmsnarl\", \"Heliolisk\", \"Hitmontop\", \"Mantine\", \"Mudsdale\", \"Passimian\", \"Rotom-Mow\", \"Salazzle\", \"Silvally-Ground\", \"Snorlax\", \"Stakataka\", \"Starmie\", \"Sylveon\", \"Talonflame\", \"Tauros\", \"Toxicroak\", \"Tsareena\", \"Tyrantrum\", \"Vaporeon\", \"Vileplume\", \"Xatu\"]\n",
    "PUBL = [\"Araquanid\", \"Clawitzer\", \"Drampa\", \"Duraludon\", \"Espeon\", \"Exeggutor-Alola\", \"Guzzlord\", \"Inteleon\", \"Kingdra\", \"Kingler\", \"Omastar\", \"Raichu-Alola\", \"Sceptile\", \"Scyther\", \"Vanilluxe\", \"Virizion\", \"Zoroark\"]\n",
    "PU = [\"Absol\", \"Aggron\", \"Archeops\", \"Aromatisse\", \"Articuno-Galar\", \"Audino\", \"Charizard\", \"Cincinno\", \"Claydol\", \"Comfey\", \"Doublade\", \"Druddigon\", \"Eldegoss\", \"Ferroseed\", \"Frosmoth\", \"Gallade\", \"Galvantula\", \"Garbodor\", \"Gigalith\", \"Hitmonlee\", \"Jellicent\", \"Jolteon\", \"Lanturn\", \"Lycanroc\", \"Magneton\", \"Mespirit\", \"Quagsire\", \"Regirocl\", \"Ribombee\", \"Sandaconda\", \"Sandslash\", \"Scrafty\", \"Silvally-Fairy\", \"Silvally-Ghost\", \"Silvally-Steel\", \"Togedemaru\", \"Wheezing\", \"Whimsicott\", \"Wishiwashi\"]\n",
    "\n",
    "tier_list=[UBERS, OU, UUBL, UU, RUBL, RU, NUBL, NU, PUBL, PU]\n",
    "\n",
    "# pk_df['Tier'] = np.where(pk_df['Name'].isin(UBERS), \"Ubers\", pk_df['Tier'])\n",
    "# pk_df['Tier'] = np.where(pk_df['Name'].isin(OU), \"OU\", pk_df['Tier'])\n",
    "# pk_df['Tier'] = np.where(pk_df['Name'].isin(UUBL), \"UUBL\", pk_df['Tier'])\n",
    "# pk_df['Tier'] = np.where(pk_df['Name'].isin(UU), \"UU\", pk_df['Tier'])\n",
    "# pk_df['Tier'] = np.where(pk_df['Name'].isin(RUBL), \"RUBL\", pk_df['Tier'])\n",
    "# pk_df['Tier'] = np.where(pk_df['Name'].isin(RU), \"RU\", pk_df['Tier'])\n",
    "# pk_df['Tier'] = np.where(pk_df['Name'].isin(NUBL), \"NUBL\", pk_df['Tier'])\n",
    "# pk_df['Tier'] = np.where(pk_df['Name'].isin(NU), \"NU\", pk_df['Tier'])\n",
    "# pk_df['Tier'] = np.where(pk_df['Name'].isin(PUBL), \"PUBL\", pk_df['Tier'])\n",
    "# pk_df['Tier'] = np.where(pk_df['Name'].isin(PU), \"PU\", pk_df['Tier'])\n",
    "\n",
    "\n",
    "pk_df.set_index(\"Name\", inplace=True)\n"
   ]
  }
 ],
 "metadata": {
  "kernelspec": {
   "display_name": "Python 3",
   "language": "python",
   "name": "python3"
  },
  "language_info": {
   "codemirror_mode": {
    "name": "ipython",
    "version": 3
   },
   "file_extension": ".py",
   "mimetype": "text/x-python",
   "name": "python",
   "nbconvert_exporter": "python",
   "pygments_lexer": "ipython3",
   "version": "3.7.12"
  },
  "papermill": {
   "default_parameters": {},
   "duration": 9.014081,
   "end_time": "2023-01-08T02:21:53.172011",
   "environment_variables": {},
   "exception": null,
   "input_path": "__notebook__.ipynb",
   "output_path": "__notebook__.ipynb",
   "parameters": {},
   "start_time": "2023-01-08T02:21:44.157930",
   "version": "2.3.4"
  }
 },
 "nbformat": 4,
 "nbformat_minor": 5
}
